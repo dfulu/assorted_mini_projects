{
 "cells": [
  {
   "cell_type": "code",
   "execution_count": 1,
   "metadata": {},
   "outputs": [],
   "source": [
    "from numba import jit\n",
    "import numpy as np"
   ]
  },
  {
   "cell_type": "markdown",
   "metadata": {},
   "source": [
    "### Sum"
   ]
  },
  {
   "cell_type": "code",
   "execution_count": 107,
   "metadata": {},
   "outputs": [],
   "source": [
    "x = np.random.normal(0,1,100)\n",
    "\n",
    "@jit(nopython=True)\n",
    "def numba_sum(x):\n",
    "    total=0\n",
    "    for y in x:\n",
    "        total=total+y\n",
    "    return total\n",
    "\n",
    "def base_sum(x):\n",
    "    total=0\n",
    "    for y in x:\n",
    "        total=total+y\n",
    "    return total"
   ]
  },
  {
   "cell_type": "code",
   "execution_count": 119,
   "metadata": {},
   "outputs": [
    {
     "name": "stdout",
     "output_type": "stream",
     "text": [
      "The slowest run took 9.70 times longer than the fastest. This could mean that an intermediate result is being cached.\n",
      "4.24 µs ± 2.22 µs per loop (mean ± std. dev. of 200 runs, 15 loops each)\n"
     ]
    }
   ],
   "source": [
    "%timeit -n 15 -r 200 np.sum(x)"
   ]
  },
  {
   "cell_type": "code",
   "execution_count": 120,
   "metadata": {},
   "outputs": [
    {
     "name": "stdout",
     "output_type": "stream",
     "text": [
      "427 ns ± 75 ns per loop (mean ± std. dev. of 200 runs, 15 loops each)\n"
     ]
    }
   ],
   "source": [
    "%timeit -n 15 -r 200 numba_sum(x)"
   ]
  },
  {
   "cell_type": "code",
   "execution_count": 121,
   "metadata": {},
   "outputs": [
    {
     "name": "stdout",
     "output_type": "stream",
     "text": [
      "2.44 µs ± 529 ns per loop (mean ± std. dev. of 200 runs, 15 loops each)\n"
     ]
    }
   ],
   "source": [
    "%timeit -n 15 -r 200 np.sum(x)"
   ]
  },
  {
   "cell_type": "code",
   "execution_count": 122,
   "metadata": {},
   "outputs": [
    {
     "name": "stdout",
     "output_type": "stream",
     "text": [
      "The slowest run took 5.72 times longer than the fastest. This could mean that an intermediate result is being cached.\n",
      "12.7 µs ± 4.51 µs per loop (mean ± std. dev. of 200 runs, 15 loops each)\n"
     ]
    }
   ],
   "source": [
    "%timeit -n 15 -r 200 base_sum(x)"
   ]
  },
  {
   "cell_type": "markdown",
   "metadata": {},
   "source": [
    "Interesting result using the above section. I found that the `numba_sum` function is faster on smaller length arrays ~1000, but the numpy function scales better"
   ]
  },
  {
   "cell_type": "markdown",
   "metadata": {},
   "source": [
    "### Bubble Sort"
   ]
  },
  {
   "cell_type": "code",
   "execution_count": 132,
   "metadata": {},
   "outputs": [],
   "source": [
    "x = np.random.normal(0,1,300)\n",
    "\n",
    "def bubble_sort_base(alist):\n",
    "   #Setting the range for comparison (first round: n, second round: n-1  and so on)\n",
    "    for i in range(len(alist)-1,0,-1):\n",
    "        #Comparing within set range\n",
    "        for j in range(i):\n",
    "            #Comparing element with its right side neighbor\n",
    "            if alist[j] > alist[j+1]:\n",
    "                #swapping\n",
    "                temp = alist[j]\n",
    "                alist[j] = alist[j+1]\n",
    "                alist[j+1] = temp\n",
    "    return alist\n",
    "\n",
    "@jit(nopython=True)\n",
    "def bubble_sort_numba(alist):\n",
    "   #Setting the range for comparison (first round: n, second round: n-1  and so on)\n",
    "    for i in range(len(alist)-1,0,-1):\n",
    "        #Comparing within set range\n",
    "        for j in range(i):\n",
    "            #Comparing element with its right side neighbor\n",
    "            if alist[j] > alist[j+1]:\n",
    "                #swapping\n",
    "                temp = alist[j]\n",
    "                alist[j] = alist[j+1]\n",
    "                alist[j+1] = temp\n",
    "    return alist"
   ]
  },
  {
   "cell_type": "code",
   "execution_count": 135,
   "metadata": {},
   "outputs": [
    {
     "name": "stdout",
     "output_type": "stream",
     "text": [
      "8.72 ms ± 345 µs per loop (mean ± std. dev. of 10 runs, 8 loops each)\n"
     ]
    }
   ],
   "source": [
    "%timeit -n 8 -r 10 bubble_sort_base(x)"
   ]
  },
  {
   "cell_type": "code",
   "execution_count": 136,
   "metadata": {},
   "outputs": [
    {
     "name": "stdout",
     "output_type": "stream",
     "text": [
      "30.6 µs ± 2.94 µs per loop (mean ± std. dev. of 10 runs, 8 loops each)\n"
     ]
    }
   ],
   "source": [
    "%timeit -n 8 -r 10 bubble_sort_numba(x)"
   ]
  },
  {
   "cell_type": "markdown",
   "metadata": {},
   "source": [
    "### Binary Search"
   ]
  },
  {
   "cell_type": "code",
   "execution_count": 144,
   "metadata": {},
   "outputs": [],
   "source": [
    "x = np.random.permutation(np.arange(200))\n",
    "\n",
    "def binary_search_base(ls,data):\n",
    "    first = 0\n",
    "    last = len(ls)-1\n",
    "    done = False   \n",
    "\n",
    "    while first<=last and not done:\n",
    "        mid = (first+last)//2\n",
    "        if ls[mid] == data:\n",
    "            done = True\n",
    "        else:\n",
    "            if ls[mid] > data:\n",
    "                last = last-1\n",
    "            else:\n",
    "                first = first+1\n",
    "    return done \n",
    "\n",
    "@jit(nopython=True)\n",
    "def binary_search_numba(ls,data):\n",
    "    first = 0\n",
    "    last = len(ls)-1\n",
    "    done = False   \n",
    "\n",
    "    while first<=last and not done:\n",
    "        mid = (first+last)//2\n",
    "        if ls[mid] == data:\n",
    "            done = True\n",
    "        else:\n",
    "            if ls[mid] > data:\n",
    "                last = last-1\n",
    "            else:\n",
    "                first = first+1\n",
    "    return done "
   ]
  },
  {
   "cell_type": "code",
   "execution_count": 148,
   "metadata": {},
   "outputs": [
    {
     "name": "stdout",
     "output_type": "stream",
     "text": [
      "147 µs ± 50.1 µs per loop (mean ± std. dev. of 10 runs, 8 loops each)\n"
     ]
    }
   ],
   "source": [
    "%timeit -n 8 -r 10 binary_search_base(x,37)"
   ]
  },
  {
   "cell_type": "code",
   "execution_count": 149,
   "metadata": {},
   "outputs": [
    {
     "name": "stdout",
     "output_type": "stream",
     "text": [
      "4 µs ± 615 ns per loop (mean ± std. dev. of 10 runs, 8 loops each)\n"
     ]
    }
   ],
   "source": [
    "%timeit -n 8 -r 10 binary_search_numba(x,37)"
   ]
  },
  {
   "cell_type": "code",
   "execution_count": null,
   "metadata": {},
   "outputs": [],
   "source": []
  }
 ],
 "metadata": {
  "kernelspec": {
   "display_name": "Python 3",
   "language": "python",
   "name": "python3"
  },
  "language_info": {
   "codemirror_mode": {
    "name": "ipython",
    "version": 3
   },
   "file_extension": ".py",
   "mimetype": "text/x-python",
   "name": "python",
   "nbconvert_exporter": "python",
   "pygments_lexer": "ipython3",
   "version": "3.7.1"
  }
 },
 "nbformat": 4,
 "nbformat_minor": 2
}
