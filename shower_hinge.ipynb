{
 "cells": [
  {
   "cell_type": "code",
   "execution_count": 63,
   "metadata": {},
   "outputs": [],
   "source": [
    "import solid\n",
    "import viewscad\n",
    "import solid.utils\n",
    "import numpy as np"
   ]
  },
  {
   "cell_type": "code",
   "execution_count": 64,
   "metadata": {},
   "outputs": [],
   "source": [
    "r = viewscad.Renderer(openscad_exec=\"C:\\Program Files\\OpenSCAD\\openscad.exe\")"
   ]
  },
  {
   "cell_type": "markdown",
   "metadata": {},
   "source": [
    "## Base measurements"
   ]
  },
  {
   "cell_type": "code",
   "execution_count": 65,
   "metadata": {},
   "outputs": [],
   "source": [
    "# bottom cyl\n",
    "Rb = 7.5/2.\n",
    "hb = 9.2 # towards small side of mid piece\n",
    "\n",
    "# top cylinder\n",
    "Rt=5./2.\n",
    "ht=10.7\n",
    "\n",
    "# middle piece\n",
    "Rm = 10.4/2.\n",
    "Lm = 15\n",
    "hm1 = 5.8\n",
    "hm2 = 9.3\n",
    "\n",
    "# cap measures\n",
    "brim_height = 1.8"
   ]
  },
  {
   "cell_type": "code",
   "execution_count": 66,
   "metadata": {},
   "outputs": [
    {
     "data": {
      "application/vnd.jupyter.widget-view+json": {
       "model_id": "b455df023aca46a5840deea470e4605a",
       "version_major": 2,
       "version_minor": 0
      },
      "text/plain": [
       "Renderer(background='#cccc88', background_opacity=0.0, camera=PerspectiveCamera(children=(DirectionalLight(int…"
      ]
     },
     "metadata": {},
     "output_type": "display_data"
    },
    {
     "data": {
      "application/vnd.jupyter.widget-view+json": {
       "model_id": "86e62bdbf6094a7ab801cbe1817f2be6",
       "version_major": 2,
       "version_minor": 0
      },
      "text/plain": [
       "HTML(value='\\n<svg width=\"600\" height=\"30\">\\n<rect width=\"20\" height=\"20\" x=\"300\" y=\"0\" style=\"fill:none;strok…"
      ]
     },
     "metadata": {},
     "output_type": "display_data"
    }
   ],
   "source": [
    "bottom = solid.cylinder(r=Rb, h=hb) \n",
    "\n",
    "top = solid.cylinder(r=Rt, h=ht)\n",
    "\n",
    "# tricky middle piece\n",
    "middle= solid.cylinder(r=Rm, h=hm2) + solid.utils.translate(v=(-Rm,0,0))(solid.cube(size=(2*Rm,Lm-Rm,hm2)))\n",
    "ofset = Rm\n",
    "middle = solid.utils.translate(v=(0,ofset,0))(middle)\n",
    "\n",
    "# use the follwing to make a cube to cut out with\n",
    "angle = np.rad2deg(np.arctan((hm2-hm1)/float(Lm)))\n",
    "cube_vertical = (hm2-hm1)\n",
    "cube_length = (Lm**2 + (hm2-hm1)**2)**0.5\n",
    "c3 = solid.utils.translate(v=(0,Lm, 0))(\n",
    "        solid.rotate(a=(180-angle, 0,0))(\n",
    "                solid.utils.translate(v=(-Rm,0,0))(\n",
    "                    solid.cube(size=(Rm*2,cube_length,cube_vertical), center=False)\n",
    "                )\n",
    "        )\n",
    ")\n",
    "\n",
    "# new middle\n",
    "new_middle = solid.difference()([middle, c3])\n",
    "new_middle = solid.utils.translate(v=(0,-ofset,0))(new_middle)\n",
    "r.render(new_middle)"
   ]
  },
  {
   "cell_type": "code",
   "execution_count": 75,
   "metadata": {},
   "outputs": [],
   "source": [
    "piece = bottom + solid.utils.up(hb-(hm2-hm1))(new_middle) + solid.utils.up(hm1+hb)(top)"
   ]
  },
  {
   "cell_type": "code",
   "execution_count": 77,
   "metadata": {},
   "outputs": [
    {
     "data": {
      "application/vnd.jupyter.widget-view+json": {
       "model_id": "c712cc3b04cb4ca592744f784c0411e5",
       "version_major": 2,
       "version_minor": 0
      },
      "text/plain": [
       "Renderer(background='#cccc88', background_opacity=0.0, camera=PerspectiveCamera(children=(DirectionalLight(int…"
      ]
     },
     "metadata": {},
     "output_type": "display_data"
    },
    {
     "data": {
      "application/vnd.jupyter.widget-view+json": {
       "model_id": "e309cdabd45a430faf318140d8034628",
       "version_major": 2,
       "version_minor": 0
      },
      "text/plain": [
       "HTML(value='\\n<svg width=\"600\" height=\"30\">\\n<rect width=\"20\" height=\"20\" x=\"300\" y=\"0\" style=\"fill:none;strok…"
      ]
     },
     "metadata": {},
     "output_type": "display_data"
    }
   ],
   "source": [
    "r.render(piece)"
   ]
  },
  {
   "cell_type": "markdown",
   "metadata": {},
   "source": [
    "### Hinge Cap"
   ]
  },
  {
   "cell_type": "code",
   "execution_count": 78,
   "metadata": {},
   "outputs": [],
   "source": [
    "hat = solid.cylinder(r=Rb, h=ht)\n",
    "brim = solid.cylinder(r=Rm, h=brim_height)\n",
    "hole = solid.cylinder(r=Rt+0.1, h=ht)\n",
    "cap = hat + brim - hole"
   ]
  },
  {
   "cell_type": "code",
   "execution_count": 79,
   "metadata": {},
   "outputs": [
    {
     "data": {
      "application/vnd.jupyter.widget-view+json": {
       "model_id": "5c07e58f17e64632ada3c54561237e55",
       "version_major": 2,
       "version_minor": 0
      },
      "text/plain": [
       "Renderer(background='#cccc88', background_opacity=0.0, camera=PerspectiveCamera(children=(DirectionalLight(int…"
      ]
     },
     "metadata": {},
     "output_type": "display_data"
    },
    {
     "data": {
      "application/vnd.jupyter.widget-view+json": {
       "model_id": "81213e63cfe245d9a81c36771bdbd2e6",
       "version_major": 2,
       "version_minor": 0
      },
      "text/plain": [
       "HTML(value='\\n<svg width=\"600\" height=\"30\">\\n<rect width=\"20\" height=\"20\" x=\"300\" y=\"0\" style=\"fill:none;strok…"
      ]
     },
     "metadata": {},
     "output_type": "display_data"
    }
   ],
   "source": [
    "r.render(cap)"
   ]
  },
  {
   "cell_type": "markdown",
   "metadata": {},
   "source": [
    "## export shapes"
   ]
  },
  {
   "cell_type": "code",
   "execution_count": 80,
   "metadata": {},
   "outputs": [
    {
     "data": {
      "application/vnd.jupyter.widget-view+json": {
       "model_id": "77eea763c92245d69ca53c897e9c4746",
       "version_major": 2,
       "version_minor": 0
      },
      "text/plain": [
       "Renderer(background='#cccc88', background_opacity=0.0, camera=PerspectiveCamera(children=(DirectionalLight(int…"
      ]
     },
     "metadata": {},
     "output_type": "display_data"
    },
    {
     "data": {
      "application/vnd.jupyter.widget-view+json": {
       "model_id": "f6fcd4edff8842a0993bcda028bfaf0f",
       "version_major": 2,
       "version_minor": 0
      },
      "text/plain": [
       "HTML(value='\\n<svg width=\"600\" height=\"30\">\\n<rect width=\"20\" height=\"20\" x=\"300\" y=\"0\" style=\"fill:none;strok…"
      ]
     },
     "metadata": {},
     "output_type": "display_data"
    },
    {
     "data": {
      "application/vnd.jupyter.widget-view+json": {
       "model_id": "401c60a04e9740cf9ebe9231c95b2319",
       "version_major": 2,
       "version_minor": 0
      },
      "text/plain": [
       "Renderer(background='#cccc88', background_opacity=0.0, camera=PerspectiveCamera(children=(DirectionalLight(int…"
      ]
     },
     "metadata": {},
     "output_type": "display_data"
    },
    {
     "data": {
      "application/vnd.jupyter.widget-view+json": {
       "model_id": "80a8b1d65aa6463fb7da6fc81a6c3b40",
       "version_major": 2,
       "version_minor": 0
      },
      "text/plain": [
       "HTML(value='\\n<svg width=\"600\" height=\"30\">\\n<rect width=\"20\" height=\"20\" x=\"300\" y=\"0\" style=\"fill:none;strok…"
      ]
     },
     "metadata": {},
     "output_type": "display_data"
    }
   ],
   "source": [
    "r.render(cap, outfile='cap.stl')\n",
    "r.render(piece, outfile='main_piece.stl')"
   ]
  },
  {
   "cell_type": "code",
   "execution_count": null,
   "metadata": {},
   "outputs": [],
   "source": []
  },
  {
   "cell_type": "code",
   "execution_count": null,
   "metadata": {},
   "outputs": [],
   "source": []
  }
 ],
 "metadata": {
  "kernelspec": {
   "display_name": "Python 3",
   "language": "python",
   "name": "python3"
  },
  "language_info": {
   "codemirror_mode": {
    "name": "ipython",
    "version": 3
   },
   "file_extension": ".py",
   "mimetype": "text/x-python",
   "name": "python",
   "nbconvert_exporter": "python",
   "pygments_lexer": "ipython3",
   "version": "3.5.6"
  }
 },
 "nbformat": 4,
 "nbformat_minor": 2
}
